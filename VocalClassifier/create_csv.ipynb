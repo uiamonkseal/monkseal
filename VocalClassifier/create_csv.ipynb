{
 "cells": [
  {
   "cell_type": "code",
   "execution_count": null,
   "metadata": {},
   "outputs": [],
   "source": [
    "import os\n",
    "import pandas as pd\n",
    "from sklearn.utils import shuffle"
   ]
  },
  {
   "cell_type": "code",
   "execution_count": null,
   "metadata": {},
   "outputs": [],
   "source": [
    "file_path = 'data/dataset/spec_images' \n",
    "classes = ['CR', 'GN', 'GL', 'MO', 'RU', 'WH']\n",
    "noise_classes =['Cargo', 'Passengership', 'Tanker', 'Tug']\n",
    "counter = 0\n",
    "splitratio = 0.85 # the Train/test Split ratio\n",
    "\n",
    "# creating a dataframe with file name and label columns\n",
    "df = pd.DataFrame(columns=['fname', 'label'])"
   ]
  },
  {
   "cell_type": "code",
   "execution_count": null,
   "metadata": {},
   "outputs": [],
   "source": [
    "#adding all the filenames and their labels from the images to dataframe\n",
    "for file in os.listdir(file_path):\n",
    "    for i, c in zip(range(len(classes)), classes):\n",
    "        if c in file:\n",
    "            temp_df = [file, i]\n",
    "            df.loc[counter] = temp_df\n",
    "    for n in noise_classes:\n",
    "        if n in file:\n",
    "            temp_df = [file, 6]\n",
    "            df.loc[counter] = temp_df\n",
    "\n",
    "    counter += 1"
   ]
  },
  {
   "cell_type": "code",
   "execution_count": null,
   "metadata": {},
   "outputs": [],
   "source": [
    "#split the dataframes to training/validation\n",
    "train_df = df.sample(frac=splitratio, random_state=0)\n",
    "val_df = df.drop(train_df.index)\n",
    "\n",
    "#shuffle and reset the indices \n",
    "train_df = shuffle(train_df)\n",
    "train_df = train_df.reset_index(drop=True)\n",
    "val_df = shuffle(val_df)\n",
    "val_df = val_df.reset_index(drop=True)"
   ]
  },
  {
   "cell_type": "code",
   "execution_count": null,
   "metadata": {},
   "outputs": [],
   "source": [
    "# save the dataframes to a .csv file\n",
    "train_df.to_csv(\"data/dataset/train.csv\", encoding=\"utf-8\", index=False)\n",
    "val_df.to_csv(\"data/dataset/val.csv\", encoding=\"utf-8\", index=False)"
   ]
  }
 ],
 "metadata": {
  "kernelspec": {
   "display_name": "Python 3",
   "language": "python",
   "name": "python3"
  },
  "language_info": {
   "codemirror_mode": {
    "name": "ipython",
    "version": 3
   },
   "file_extension": ".py",
   "mimetype": "text/x-python",
   "name": "python",
   "nbconvert_exporter": "python",
   "pygments_lexer": "ipython3",
   "version": "3.8.3"
  }
 },
 "nbformat": 4,
 "nbformat_minor": 4
}
