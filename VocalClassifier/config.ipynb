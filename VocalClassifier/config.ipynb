{
 "cells": [
  {
   "cell_type": "code",
   "execution_count": null,
   "metadata": {},
   "outputs": [],
   "source": [
    "class Config():\n",
    "    def __init__(self, ):\n",
    "\n",
    "        self.model = 'resnet101'#Choose the model to use: resnet18,resnet50,resnet101,VGGish\n",
    "        self.TRAIN_ANN_FILE = \"Data/dataset/train.csv\"  # directory of training annotation file\n",
    "        self.VAL_ANN_FILE = \"Data/dataset/val.csv\"  # directory of validation annotation file\n",
    "        self.AUDIO_DIR = \"Data/dataset/spec_images_without_noise/\"  # directory of image dataset\n",
    "\n",
    "        self.model_dir = \"Output/model/\" #directory of the trained model\n",
    "        self.results_dir = \"Output/results/\" #directory of the result metrics/plots\n",
    "\n",
    "        self.epochs = 2 # The maximum number of epochs to train for \n",
    "        self.batch_size = 64 #The batch size \n",
    "        self.lr = 0.001 # The initial learning rate\n",
    "        self.lossfunction = 'FocalLoss' #CrossEntropyLoss, FocalLoss\n",
    "        self.optimizer = 'SGD'# Adam, SGD\n",
    "        self.momentum = 0.9 #momentum parameter for the optimizer \n",
    "        self.weight_decay = 5e-3 #weight decay value for the optimizer\n",
    "        self.fl_gamma = 2 #tunable parameter for the focal loss function\n",
    "        self.train_paitence = 20 #The number of epochs that the model trains with no improv. before stopping\n",
    "        self.dataAugment = False # Whether the model uses Data augmentation: True, False\n",
    "        self.pretrained = True # Whether the model uses a pretrained model: True, False\n",
    "        \n",
    "        #the 7 Class labels\n",
    "        self.class_mapping = ['Croak',\n",
    "                              'Groan',\n",
    "                              'Growl',\n",
    "                              'Moan',\n",
    "                              'Rumble',\n",
    "                              'Whoops',\n",
    "                              'Other']"
   ]
  }
 ],
 "metadata": {
  "kernelspec": {
   "display_name": "Python 3",
   "language": "python",
   "name": "python3"
  },
  "language_info": {
   "codemirror_mode": {
    "name": "ipython",
    "version": 3
   },
   "file_extension": ".py",
   "mimetype": "text/x-python",
   "name": "python",
   "nbconvert_exporter": "python",
   "pygments_lexer": "ipython3",
   "version": "3.8.3"
  }
 },
 "nbformat": 4,
 "nbformat_minor": 4
}
