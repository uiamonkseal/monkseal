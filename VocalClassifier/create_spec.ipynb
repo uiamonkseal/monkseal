{
 "cells": [
  {
   "cell_type": "code",
   "execution_count": null,
   "metadata": {},
   "outputs": [],
   "source": [
    "import random\n",
    "import numpy as np\n",
    "import os\n",
    "import torch\n",
    "import torch.nn.functional as f\n",
    "import torchaudio\n",
    "import math\n",
    "import skimage.io"
   ]
  },
  {
   "cell_type": "code",
   "execution_count": null,
   "metadata": {},
   "outputs": [],
   "source": [
    "# function to resample the audio file to given target sampling rate\n",
    "def _resample_if_necessary(signal, sr, target_sr):\n",
    "    if sr != target_sr:\n",
    "        resampler = torchaudio.transforms.Resample(sr, target_sr)\n",
    "        signal = resampler(signal)\n",
    "    return signal"
   ]
  },
  {
   "cell_type": "code",
   "execution_count": null,
   "metadata": {},
   "outputs": [],
   "source": [
    "#function to cut longer audio files \n",
    "def _cut_if_necessary(signal, num_samples):\n",
    "    if signal.shape[1] > num_samples:\n",
    "        signal = signal[:, :num_samples]\n",
    "    return signal"
   ]
  },
  {
   "cell_type": "code",
   "execution_count": null,
   "metadata": {},
   "outputs": [],
   "source": [
    "#function to apply zero padding to the audio file\n",
    "def _pad_if_necessary(signal, num_samples):\n",
    "    length_signal = signal.shape[1]\n",
    "    if length_signal < num_samples:\n",
    "        num_missing_samples = num_samples - length_signal\n",
    "        if random.random() < 0.5:\n",
    "            last_dim_padding = (0, num_missing_samples)\n",
    "            signal = f.pad(signal, last_dim_padding)\n",
    "        else:\n",
    "            last_dim_padding = (math.ceil(num_missing_samples / 2), math.floor(num_missing_samples / 2))\n",
    "            signal = f.pad(signal, last_dim_padding)\n",
    "    return signal"
   ]
  },
  {
   "cell_type": "code",
   "execution_count": null,
   "metadata": {},
   "outputs": [],
   "source": [
    "#function to scale the image to fit a 8 bit integer\n",
    "def scale_minmax(x, min=0.0, max=1.0):\n",
    "    x_std = (x - x.min()) / (x.max() - x.min())\n",
    "    x_scaled = x_std * (max - min) + min\n",
    "\n",
    "    return x_scaled"
   ]
  },
  {
   "cell_type": "code",
   "execution_count": null,
   "metadata": {},
   "outputs": [],
   "source": [
    "if __name__ == \"__main__\":\n",
    "    wav_files_path = 'Data/wav_files (3884 files)/'# file path for the audio files\n",
    "    image_destination = 'Data/dataset/spec_images/'# destination path for the resulting images\n",
    "    target_sr = 48000 #The target sampling rate\n",
    "    num_samples = 240000 #The maximum number of samples \n",
    "    hop_length = 2048 #the hop length\n",
    "    f_min = 16 #lower frequency bound\n",
    "    f_max = 2048 #upper frequency bound\n",
    "    n_mels = 128 #number of mel filter banks\n",
    "\n",
    "    for file in os.listdir(wav_files_path):\n",
    "\n",
    "        signal, sr = torchaudio.load(wav_files_path + file)\n",
    "\n",
    "        signal = _resample_if_necessary(signal, sr, target_sr)\n",
    "        signal = _cut_if_necessary(signal, num_samples)\n",
    "        signal = _pad_if_necessary(signal, num_samples)\n",
    "        \n",
    "        # function for calculating the melspectrogram\n",
    "        mel_spectrogram = torchaudio.transforms.MelSpectrogram(\n",
    "            sample_rate=target_sr,\n",
    "            n_fft=hop_length*2,\n",
    "            hop_length=hop_length,\n",
    "            f_min=f_min,\n",
    "            f_max=f_max,\n",
    "            n_mels=n_mels)\n",
    "        \n",
    "        mels = mel_spectrogram(signal)\n",
    "        mels = mels.squeeze().numpy()\n",
    "        mels = np.log(mels + 1e-9) #applying logarithmic function to the spectrogram\n",
    "        img = scale_minmax(mels, 0, 255).astype(np.uint8)\n",
    "        img = np.flip(img, axis=0)# flipping the spectrogram image\n",
    "        img = 255 - img  # invert. make black==more energy\n",
    "\n",
    "        # save as PNG\n",
    "        skimage.io.imsave(image_destination+file[:-4] + '.png', img)\n"
   ]
  }
 ],
 "metadata": {
  "kernelspec": {
   "display_name": "Python 3",
   "language": "python",
   "name": "python3"
  },
  "language_info": {
   "codemirror_mode": {
    "name": "ipython",
    "version": 3
   },
   "file_extension": ".py",
   "mimetype": "text/x-python",
   "name": "python",
   "nbconvert_exporter": "python",
   "pygments_lexer": "ipython3",
   "version": "3.8.3"
  }
 },
 "nbformat": 4,
 "nbformat_minor": 4
}
